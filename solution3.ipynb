{
 "cells": [
  {
   "cell_type": "code",
   "execution_count": 5,
   "metadata": {},
   "outputs": [
    {
     "name": "stdin",
     "output_type": "stream",
     "text": [
      " 12\n",
      " 3\n",
      " 2\n"
     ]
    },
    {
     "name": "stdout",
     "output_type": "stream",
     "text": [
      "(0, 3, 5)\n",
      "(4, 7, 9)\n",
      "(8, 9, 11)\n"
     ]
    }
   ],
   "source": [
    "import numpy as np\n",
    "import os\n",
    "import matplotlib.pyplot as plt\n",
    "import math\n",
    "\n",
    "N = int(input())\n",
    "batch = int(input())\n",
    "k = float(input())\n",
    "n=N\n",
    "x = n/(batch*k+1)\n",
    "\n",
    "X = math.floor(x)\n",
    "KX = math.floor(k*X)\n",
    "X_1 = math.ceil(x)\n",
    "KX_1 = math.ceil(X_1*k)\n",
    "\n",
    "res=[]\n",
    "j=0\n",
    "b = batch\n",
    "for i in range(b):\n",
    "    if n <= 0:\n",
    "        break\n",
    "    if (n-KX_1 > (batch-1)*KX + X):\n",
    "        res.append((j,j+KX_1-1,j+KX_1+X_1-1))\n",
    "        n-=KX_1\n",
    "        batch-=1\n",
    "        j+=KX_1\n",
    "    else:\n",
    "        res.append((j,j+KX-1,j+KX+X-1))\n",
    "        n-=KX\n",
    "        batch-=1\n",
    "        j+=KX\n",
    "res[len(res)-1] = res[len(res)-1][0],res[len(res)-1][1], N-1\n",
    "for i in res:\n",
    "    print(i)"
   ]
  },
  {
   "cell_type": "code",
   "execution_count": null,
   "metadata": {},
   "outputs": [],
   "source": []
  }
 ],
 "metadata": {
  "kernelspec": {
   "display_name": "Python 3",
   "language": "python",
   "name": "python3"
  },
  "language_info": {
   "codemirror_mode": {
    "name": "ipython",
    "version": 3
   },
   "file_extension": ".py",
   "mimetype": "text/x-python",
   "name": "python",
   "nbconvert_exporter": "python",
   "pygments_lexer": "ipython3",
   "version": "3.7.3"
  }
 },
 "nbformat": 4,
 "nbformat_minor": 2
}
